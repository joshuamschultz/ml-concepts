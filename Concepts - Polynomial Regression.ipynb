{
 "cells": [
  {
   "cell_type": "markdown",
   "metadata": {},
   "source": [
    "In the [linear](./Concepts%20-%20Linear%20Regression.ipynb) models, we used one various inputs to weight each *feature* and predict the *label*.\n",
    "\n",
    "In Polynomial, we can predict non-linear relationships (those not deriving from a simple scalar / feature combination)."
   ]
  },
  {
   "cell_type": "code",
   "execution_count": 4,
   "metadata": {},
   "outputs": [],
   "source": [
    "import numpy as np\n",
    "import matplotlib.pyplot as plt\n",
    "np.random.seed(10)"
   ]
  },
  {
   "cell_type": "code",
   "execution_count": 3,
   "metadata": {},
   "outputs": [],
   "source": [
    "m = 100\n",
    "X = 6 * np.random.rand(m,1) - 3\n",
    "y = 0.5 * X**2 + X + 2 + np.random.randn(m,1)"
   ]
  },
  {
   "cell_type": "code",
   "execution_count": 6,
   "metadata": {},
   "outputs": [
    {
     "data": {
      "text/plain": [
       "<matplotlib.collections.PathCollection at 0x126577f98>"
      ]
     },
     "execution_count": 6,
     "metadata": {},
     "output_type": "execute_result"
    },
    {
     "data": {
      "image/png": "[encoded data removed]",
      "text/plain": [
       "<Figure size 432x288 with 1 Axes>"
      ]
     },
     "metadata": {
      "needs_background": "light"
     },
     "output_type": "display_data"
    }
   ],
   "source": [
    "plt.scatter(X, y)"
   ]
  },
  {
   "cell_type": "markdown",
   "metadata": {},
   "source": [
    "The relationship is no longer linear. \n",
    "\n",
    "We can transform the X by adding the square of each x."
   ]
  },
  {
   "cell_type": "code",
   "execution_count": 7,
   "metadata": {},
   "outputs": [],
   "source": [
    "from sklearn.preprocessing import PolynomialFeatures\n",
    "poly_features = PolynomialFeatures(degree=2, include_bias=False)"
   ]
  },
  {
   "cell_type": "code",
   "execution_count": 10,
   "metadata": {},
   "outputs": [
    {
     "name": "stdout",
     "output_type": "stream",
     "text": [
      "[-0.17212851]\n",
      "[-0.17212851  0.02962823]\n"
     ]
    }
   ],
   "source": [
    "X_poly = poly_features.fit_transform(X)\n",
    "print(X[0])\n",
    "print(X_poly[0])"
   ]
  },
  {
   "cell_type": "markdown",
   "metadata": {},
   "source": [
    "Now each X has its original value, and its square\n",
    "\n",
    "We can isolate the square using the below call."
   ]
  },
  {
   "cell_type": "code",
   "execution_count": 13,
   "metadata": {},
   "outputs": [
    {
     "data": {
      "text/plain": [
       "array([2.96282256e-02, 9.07358846e-03, 3.98028557e-01, 4.47032062e+00,\n",
       "       4.95355286e+00, 5.61898855e+00, 6.59379683e+00, 7.75619779e+00,\n",
       "       4.78802190e+00, 3.83832256e+00, 1.89086329e-01, 2.55268354e-01,\n",
       "       7.01502059e+00, 4.86807026e+00, 6.52645805e+00, 8.78469019e+00,\n",
       "       7.58388487e+00, 1.55488223e+00, 9.97514880e-01, 8.34202456e+00,\n",
       "       3.53169292e-01, 3.50738859e-03, 2.10940385e+00, 7.74940078e+00,\n",
       "       1.32602099e+00, 7.87998217e+00, 6.32096962e+00, 5.07582166e+00,\n",
       "       6.87183857e-01, 6.33137913e+00, 9.15308639e-02, 2.90873846e-01,\n",
       "       1.10737595e-01, 5.17251440e-01, 8.54344577e-01, 6.03020895e+00,\n",
       "       2.88602487e+00, 5.77750547e-01, 1.85038089e-03, 5.04401518e+00,\n",
       "       2.83443307e+00, 5.74306324e+00, 4.62193642e-01, 5.25201484e+00,\n",
       "       1.62208933e+00, 1.14768225e+00, 8.25010097e+00, 9.68724782e-01,\n",
       "       2.21935501e+00, 1.11647204e+00, 6.48513898e+00, 8.66509890e+00,\n",
       "       8.59766024e+00, 6.57834311e+00, 6.70163214e+00, 5.94445887e+00,\n",
       "       1.69569133e+00, 3.16927387e+00, 3.94107252e+00, 4.76985187e+00,\n",
       "       2.76214976e+00, 8.83301925e-04, 7.97670058e+00, 1.27396119e+00,\n",
       "       3.85472646e+00, 2.12778824e+00, 6.45399175e+00, 1.88762150e+00,\n",
       "       7.93013427e+00, 8.30182721e+00, 8.44607675e+00, 3.15181536e+00,\n",
       "       1.67312000e-02, 6.87901480e+00, 4.72121682e+00, 2.39285603e+00,\n",
       "       8.75731070e-03, 4.75859636e+00, 1.86575483e+00, 3.24251309e+00,\n",
       "       7.55545650e-01, 2.60020973e-01, 3.73774868e+00, 6.72509896e-01,\n",
       "       8.35340744e+00, 6.93643802e+00, 5.13309156e-01, 6.40709976e+00,\n",
       "       6.50902401e+00, 5.34886056e+00, 1.40764903e-01, 3.25767540e+00,\n",
       "       3.03921436e+00, 8.59888098e-03, 2.00935762e+00, 4.50441388e+00,\n",
       "       1.83935991e+00, 8.78638563e+00, 7.95015469e+00, 1.18984361e+00])"
      ]
     },
     "execution_count": 13,
     "metadata": {},
     "output_type": "execute_result"
    }
   ],
   "source": [
    "X_poly[:,1]"
   ]
  },
  {
   "cell_type": "code",
   "execution_count": 14,
   "metadata": {},
   "outputs": [
    {
     "data": {
      "text/plain": [
       "<matplotlib.collections.PathCollection at 0x128852400>"
      ]
     },
     "execution_count": 14,
     "metadata": {},
     "output_type": "execute_result"
    },
    {
     "data": {
      "image/png": "[encoded data removed]",
      "text/plain": [
       "<Figure size 432x288 with 1 Axes>"
      ]
     },
     "metadata": {
      "needs_background": "light"
     },
     "output_type": "display_data"
    }
   ],
   "source": [
    "plt.scatter(X_poly[:,1], y)"
   ]
  },
  {
   "cell_type": "markdown",
   "metadata": {},
   "source": [
    "We can then run a linear regression on this dataset."
   ]
  },
  {
   "cell_type": "code",
   "execution_count": 38,
   "metadata": {},
   "outputs": [
    {
     "data": {
      "text/plain": [
       "(array([2.28487368]), array([[1.00537347, 0.44822487]]))"
      ]
     },
     "execution_count": 38,
     "metadata": {},
     "output_type": "execute_result"
    }
   ],
   "source": [
    "from sklearn.linear_model import LinearRegression\n",
    "lin_reg = LinearRegression()\n",
    "lin_reg.fit(X_poly, y)\n",
    "lin_reg.intercept_, lin_reg.coef_"
   ]
  },
  {
   "cell_type": "markdown",
   "metadata": {},
   "source": [
    "We now have a weight for the bias term, and then another array for both the original and squared X. From this we can train a model based on $$ y = \\theta_0 + \\theta_1 x_1 + \\theta_2 + x_2^2 $$"
   ]
  },
  {
   "cell_type": "markdown",
   "metadata": {},
   "source": [
    "## Overfitting"
   ]
  },
  {
   "cell_type": "markdown",
   "metadata": {},
   "source": [
    "The higher your polynomial degree, the greater the degree of overfitting. The greater curvature allowed in predictions tends to fit right to each point in the training data, rather than providing a slighly more generalized model which would do better in predicting future points."
   ]
  },
  {
   "cell_type": "markdown",
   "metadata": {},
   "source": [
    "We can do the same as before and create both a training and valadation set, and make sure that the validation set is proving useful predictions."
   ]
  },
  {
   "cell_type": "markdown",
   "metadata": {},
   "source": [
    "So we can graph the learning curves to better understand the model. We look at two things:\n",
    "1. hieight of the curve plateaus. This tells us the error of our model\n",
    "2. the distance betweeen the training and validation curve. A large gap shows that the model is overfit (training performance is > validation).\n",
    "\n",
    "So we want close curves with a low error. "
   ]
  },
  {
   "cell_type": "code",
   "execution_count": 39,
   "metadata": {},
   "outputs": [],
   "source": [
    "from sklearn.metrics import mean_squared_error\n",
    "from sklearn.model_selection import train_test_split"
   ]
  },
  {
   "cell_type": "code",
   "execution_count": 47,
   "metadata": {},
   "outputs": [
    {
     "data": {
      "image/png": "[encoded data removed]",
      "text/plain": [
       "<Figure size 432x288 with 1 Axes>"
      ]
     },
     "metadata": {
      "needs_background": "light"
     },
     "output_type": "display_data"
    }
   ],
   "source": [
    "def plot_learning_curves(model, X, y):\n",
    "    X_train, X_val, y_train, y_val = train_test_split(X, y, test_size=0.2)\n",
    "    train_errors, val_errors =[], []\n",
    "    for m in range(1,len(X_train)):\n",
    "        model.fit(X_train[:m], y_train[:m]) #train the model using gradient decent\n",
    "        y_train_predict = model.predict(X_train[:m]) # predict for the training set\n",
    "        y_val_predict = model.predict(X_val) # predict for the validation set\n",
    "        train_errors.append(mean_squared_error(y_train[:m], y_train_predict)) # get the errors\n",
    "        val_errors.append(mean_squared_error(y_val,y_val_predict))\n",
    "    plt.axis([0, 80, 0, 5])\n",
    "    plt.plot(np.sqrt(train_errors), \"r-\", linewidth=2, label=\"train\") # plot the errors\n",
    "    plt.plot(np.sqrt(val_errors), \"b-\", linewidth=2, label=\"validation\")\n",
    "\n",
    "lin_reg = LinearRegression()\n",
    "plot_learning_curves(lin_reg,X,y)"
   ]
  },
  {
   "cell_type": "markdown",
   "metadata": {},
   "source": [
    "Now we can compare that to the preprocessing we did earlier"
   ]
  },
  {
   "cell_type": "code",
   "execution_count": 48,
   "metadata": {},
   "outputs": [],
   "source": [
    "from sklearn.pipeline import Pipeline"
   ]
  },
  {
   "cell_type": "code",
   "execution_count": 49,
   "metadata": {},
   "outputs": [
    {
     "data": {
      "image/png": "[encoded data removed]",
      "text/plain": [
       "<Figure size 432x288 with 1 Axes>"
      ]
     },
     "metadata": {
      "needs_background": "light"
     },
     "output_type": "display_data"
    }
   ],
   "source": [
    "poly_regression = Pipeline([\n",
    "    ('poly_features', PolynomialFeatures(degree=10, include_bias=False)),\n",
    "    ('lin_reg', LinearRegression()),\n",
    "])\n",
    "\n",
    "plot_learning_curves(poly_regression, X, y)"
   ]
  }
 ],
 "metadata": {
  "kernelspec": {
   "display_name": "Python 3",
   "language": "python",
   "name": "python3"
  },
  "language_info": {
   "codemirror_mode": {
    "name": "ipython",
    "version": 3
   },
   "file_extension": ".py",
   "mimetype": "text/x-python",
   "name": "python",
   "nbconvert_exporter": "python",
   "pygments_lexer": "ipython3",
   "version": "3.6.10"
  }
 },
 "nbformat": 4,
 "nbformat_minor": 4
}
